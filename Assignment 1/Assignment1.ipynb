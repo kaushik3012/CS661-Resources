{
 "cells": [
  {
   "attachments": {},
   "cell_type": "markdown",
   "metadata": {},
   "source": [
    "# Data Query/Processing Task"
   ]
  },
  {
   "attachments": {},
   "cell_type": "markdown",
   "metadata": {},
   "source": [
    "Import VTK"
   ]
  },
  {
   "cell_type": "code",
   "execution_count": 48,
   "metadata": {},
   "outputs": [],
   "source": [
    "from vtk import *   # import the VTK module"
   ]
  },
  {
   "attachments": {},
   "cell_type": "markdown",
   "metadata": {},
   "source": [
    "Load Data"
   ]
  },
  {
   "cell_type": "code",
   "execution_count": 49,
   "metadata": {},
   "outputs": [],
   "source": [
    "reader = vtkXMLImageDataReader()            # create a reader\n",
    "reader.SetFileName('Data/Isabel_2D.vti')    # set the file name\n",
    "reader.Update()                             # update the reader\n",
    "data = reader.GetOutput()                   # get the output of the reader"
   ]
  },
  {
   "attachments": {},
   "cell_type": "markdown",
   "metadata": {},
   "source": [
    "Query how many cells the dataset has"
   ]
  },
  {
   "cell_type": "code",
   "execution_count": 50,
   "metadata": {},
   "outputs": [
    {
     "name": "stdout",
     "output_type": "stream",
     "text": [
      "Number of cells in the dataset:  62001\n"
     ]
    }
   ],
   "source": [
    "numCells = data.GetNumberOfCells()  # get the number of cells\n",
    "print('Number of cells in the dataset: ',numCells)"
   ]
  },
  {
   "attachments": {},
   "cell_type": "markdown",
   "metadata": {},
   "source": [
    "The dimensions of the dataset"
   ]
  },
  {
   "cell_type": "code",
   "execution_count": 51,
   "metadata": {},
   "outputs": [
    {
     "name": "stdout",
     "output_type": "stream",
     "text": [
      "Dimensions of the dataset:  (250, 250, 1)\n"
     ]
    }
   ],
   "source": [
    "dims = data.GetDimensions() # get the dimensions of the dataset\n",
    "print('Dimensions of the dataset: ',dims)"
   ]
  },
  {
   "attachments": {},
   "cell_type": "markdown",
   "metadata": {},
   "source": [
    "The number of points present in the uniform grid of the data."
   ]
  },
  {
   "cell_type": "code",
   "execution_count": 52,
   "metadata": {},
   "outputs": [
    {
     "name": "stdout",
     "output_type": "stream",
     "text": [
      "Total number of points in the grid:  62500\n"
     ]
    }
   ],
   "source": [
    "print('Total number of points in the grid: ', data.GetNumberOfPoints()) # get the number of points"
   ]
  },
  {
   "attachments": {},
   "cell_type": "markdown",
   "metadata": {},
   "source": [
    "Print the range of Pressure values present in the dataset."
   ]
  },
  {
   "cell_type": "code",
   "execution_count": 53,
   "metadata": {},
   "outputs": [
    {
     "name": "stdout",
     "output_type": "stream",
     "text": [
      "Range of Pressure Values:  (-1434.8590087890625, 630.5694580078125)\n"
     ]
    }
   ],
   "source": [
    "dataArr = data.GetPointData().GetArray('Pressure')  # get the pressure array\n",
    "print(\"Range of Pressure Values: \",dataArr.GetRange())  "
   ]
  },
  {
   "attachments": {},
   "cell_type": "markdown",
   "metadata": {},
   "source": [
    "Print the average Pressure value of the entire dataset, i.e., the Pressure array. For this, you will have\n",
    "to access the Pressure values and compute the average of all points."
   ]
  },
  {
   "cell_type": "code",
   "execution_count": 54,
   "metadata": {},
   "outputs": [
    {
     "name": "stdout",
     "output_type": "stream",
     "text": [
      "Average pressure value:  240.77722069091425\n"
     ]
    }
   ],
   "source": [
    "size = dataArr.GetDataSize()    # get the size of the array\n",
    "avg=0\n",
    "\n",
    "# calculate the average pressure value\n",
    "for i in range(size):   \n",
    "    avg += dataArr.GetTuple1(i)/size\n",
    "print(\"Average pressure value: \", avg)"
   ]
  },
  {
   "attachments": {},
   "cell_type": "markdown",
   "metadata": {},
   "source": [
    "Extract a vtkCell object with cell id=0, i.e., the first cell. This is a quad cell, so the cell will have\n",
    "four vertices and four edges, and one face."
   ]
  },
  {
   "cell_type": "code",
   "execution_count": 55,
   "metadata": {},
   "outputs": [],
   "source": [
    "cellId = 0      # cellId is the index of the cell"
   ]
  },
  {
   "cell_type": "code",
   "execution_count": 56,
   "metadata": {},
   "outputs": [
    {
     "name": "stdout",
     "output_type": "stream",
     "text": [
      "cell is a vtkCell object:  True\n"
     ]
    }
   ],
   "source": [
    "cell = data.GetCell(cellId) # get the cell with cellId\n",
    "print('cell is a vtkCell object: ', bool(cell.IsA('vtkCell')))"
   ]
  },
  {
   "attachments": {},
   "cell_type": "markdown",
   "metadata": {},
   "source": [
    "Query the 4 corner points of the cell"
   ]
  },
  {
   "cell_type": "code",
   "execution_count": 57,
   "metadata": {},
   "outputs": [],
   "source": [
    "# get the points of cell \n",
    "pid1 = cell.GetPointId(0)   \n",
    "pid2 = cell.GetPointId(1)\n",
    "pid3 = cell.GetPointId(3)\n",
    "pid4 = cell.GetPointId(2)"
   ]
  },
  {
   "attachments": {},
   "cell_type": "markdown",
   "metadata": {},
   "source": [
    "Print the indices of the four corner vertices of the cell."
   ]
  },
  {
   "cell_type": "code",
   "execution_count": 58,
   "metadata": {},
   "outputs": [
    {
     "name": "stdout",
     "output_type": "stream",
     "text": [
      "1D indices of the cell corner points:\n",
      "0 1 251 250\n"
     ]
    }
   ],
   "source": [
    "print('1D indices of the cell corner points:')\n",
    "print(pid1,pid2,pid3,pid4) ## in counter-clockwise order"
   ]
  },
  {
   "attachments": {},
   "cell_type": "markdown",
   "metadata": {},
   "source": [
    "Print the 3D coordinate of each vertex. Note that this is a 2D dataset, but all the points are stored\n",
    "as 3D points in the VTK data file with a constant Z-coordinate value=25."
   ]
  },
  {
   "cell_type": "code",
   "execution_count": 59,
   "metadata": {},
   "outputs": [
    {
     "name": "stdout",
     "output_type": "stream",
     "text": [
      "3D Point locations of cell corners in counter clockwise order:\n",
      "(0.0, 0.0, 25.0)\n",
      "(1.0, 0.0, 25.0)\n",
      "(1.0, 1.0, 25.0)\n",
      "(0.0, 1.0, 25.0)\n"
     ]
    }
   ],
   "source": [
    "# get the 3d coordinates of the cell corners\n",
    "print('3D Point locations of cell corners in counter clockwise order:')\n",
    "print(data.GetPoint(pid1))\n",
    "print(data.GetPoint(pid2))\n",
    "print(data.GetPoint(pid3))\n",
    "print(data.GetPoint(pid4))"
   ]
  },
  {
   "attachments": {},
   "cell_type": "markdown",
   "metadata": {},
   "source": [
    "Compute the 3D coordinate of the cell center using its four corner vertices. The center location can\n",
    "be computed as the average of the corner vertices. Again, note that the Z coordinate of the center\n",
    "will be 25."
   ]
  },
  {
   "cell_type": "code",
   "execution_count": 60,
   "metadata": {},
   "outputs": [],
   "source": [
    "# Define a function to find the center\n",
    "def findCenter(A, B, C, D):\n",
    "    x = (A[0]+B[0]+C[0]+D[0])/4\n",
    "    y = (A[1]+B[1]+C[1]+D[1])/4\n",
    "    return (x,y, A[2])"
   ]
  },
  {
   "cell_type": "code",
   "execution_count": 61,
   "metadata": {},
   "outputs": [
    {
     "name": "stdout",
     "output_type": "stream",
     "text": [
      "Coordinates of the center of cell:  (0.5, 0.5, 25.0)\n"
     ]
    }
   ],
   "source": [
    "center = findCenter(data.GetPoint(pid1), data.GetPoint(pid2), data.GetPoint(pid3), data.GetPoint(pid4)) \n",
    "print('Coordinates of the center of cell: ', center)"
   ]
  },
  {
   "attachments": {},
   "cell_type": "markdown",
   "metadata": {},
   "source": [
    "Print the data/attribute value (Pressure) for all the four vertices of the extracted cell."
   ]
  },
  {
   "cell_type": "code",
   "execution_count": 62,
   "metadata": {},
   "outputs": [
    {
     "name": "stdout",
     "output_type": "stream",
     "text": [
      "List of Pressure Values:  [477.527587890625, 474.79827880859375, 467.60699462890625, 478.0115661621094]\n"
     ]
    }
   ],
   "source": [
    "val_list = [dataArr.GetTuple1(pid1),dataArr.GetTuple1(pid2),dataArr.GetTuple1(pid3),dataArr.GetTuple1(pid4)]\n",
    "print(\"List of Pressure Values: \",val_list)"
   ]
  },
  {
   "attachments": {},
   "cell_type": "markdown",
   "metadata": {},
   "source": [
    "Compute and print the mean (average) Pressure value at the cell center by averaging Pressure values\n",
    "from the four cell vertices."
   ]
  },
  {
   "cell_type": "code",
   "execution_count": 63,
   "metadata": {},
   "outputs": [
    {
     "name": "stdout",
     "output_type": "stream",
     "text": [
      "Average Pressure value at the center:  474.4861068725586\n"
     ]
    }
   ],
   "source": [
    "Pavg = sum(val_list)/len(val_list)\n",
    "print(\"Average Pressure value at the center: \",Pavg)"
   ]
  },
  {
   "attachments": {},
   "cell_type": "markdown",
   "metadata": {},
   "source": [
    "# Visualization Task"
   ]
  },
  {
   "attachments": {},
   "cell_type": "markdown",
   "metadata": {},
   "source": [
    "Store one cell in the vtkPoints object"
   ]
  },
  {
   "cell_type": "code",
   "execution_count": 64,
   "metadata": {},
   "outputs": [
    {
     "data": {
      "text/plain": [
       "3"
      ]
     },
     "execution_count": 64,
     "metadata": {},
     "output_type": "execute_result"
    }
   ],
   "source": [
    "points = vtkPoints()    # create an empty vtkPoints object\n",
    "\n",
    "# Add the points to the vtkPoints object\n",
    "points.InsertNextPoint(data.GetPoint(pid1))\n",
    "points.InsertNextPoint(data.GetPoint(pid2)) \n",
    "points.InsertNextPoint(data.GetPoint(pid3))\n",
    "points.InsertNextPoint(data.GetPoint(pid4))"
   ]
  },
  {
   "attachments": {},
   "cell_type": "markdown",
   "metadata": {},
   "source": [
    "Create a polydata and add points to the polydata"
   ]
  },
  {
   "cell_type": "code",
   "execution_count": 65,
   "metadata": {},
   "outputs": [],
   "source": [
    "poly_data = vtkPolyData()   # create an empty vtkPolyData object\n",
    "poly_data.SetPoints(points) # add the points to the vtkPolyData object"
   ]
  },
  {
   "attachments": {},
   "cell_type": "markdown",
   "metadata": {},
   "source": [
    "Setup Colors"
   ]
  },
  {
   "cell_type": "code",
   "execution_count": 66,
   "metadata": {},
   "outputs": [],
   "source": [
    "Colors = vtkUnsignedCharArray() # create an empty vtkUnsignedCharArray object\n",
    "Colors.SetNumberOfComponents(3) # set the number of components to 3\n",
    "Colors.SetName('Colors')        # set the name of the array to 'Colors'\n",
    "\n",
    "# Add the colors to the vtkUnsignedCharArray object\n",
    "Colors.InsertNextTuple3(255, 0, 0)     # red   \n",
    "Colors.InsertNextTuple3(0, 255, 0)     # Green\n",
    "Colors.InsertNextTuple3(66, 233, 245)  # Turquiose\n",
    "Colors.InsertNextTuple3(0, 0, 255)     # Blue\n",
    "\n",
    "# Add the colors to the vtkPolyData object\n",
    "poly_data.GetPointData().SetScalars(Colors)     \n",
    "poly_data.Modified()   "
   ]
  },
  {
   "attachments": {},
   "cell_type": "markdown",
   "metadata": {},
   "source": [
    "Apply the Vertex Glyph Filter on poly data"
   ]
  },
  {
   "cell_type": "code",
   "execution_count": 67,
   "metadata": {},
   "outputs": [],
   "source": [
    "vertexGlyphFilter = vtkVertexGlyphFilter()  # create a vtkVertexGlyphFilter object\n",
    "vertexGlyphFilter.AddInputData(poly_data)   # add the vtkPolyData object to the vtkVertexGlyphFilter object\n",
    "vertexGlyphFilter.Update()                  # update the vtkVertexGlyphFilter object"
   ]
  },
  {
   "attachments": {},
   "cell_type": "markdown",
   "metadata": {},
   "source": [
    "Setup mapper and actor"
   ]
  },
  {
   "cell_type": "code",
   "execution_count": 68,
   "metadata": {},
   "outputs": [],
   "source": [
    "mapper = vtkPolyDataMapper()                                    # create a vtkPolyDataMapper object\n",
    "mapper.SetInputConnection(vertexGlyphFilter.GetOutputPort())    # set the input of the mapper to the output of the vtkVertexGlyphFilter object\n",
    "\n",
    "actor = vtkActor()                                              # create a vtkActor object\n",
    "actor.SetMapper(mapper)                                         # set the mapper of the actor to the vtkPolyDataMapper object\n",
    "actor.GetProperty().SetPointSize(50)                            # set the size of the points"
   ]
  },
  {
   "attachments": {},
   "cell_type": "markdown",
   "metadata": {},
   "source": [
    "Setup render window, renderer, and interactor"
   ]
  },
  {
   "cell_type": "code",
   "execution_count": 69,
   "metadata": {},
   "outputs": [],
   "source": [
    "renderer = vtkRenderer()                               # create a vtkRenderer object\n",
    "renderer.SetBackground(1,1,1)                          # set the background color of the renderer to white\n",
    "renderWindow = vtkRenderWindow()                       # create a vtkRenderWindow object\n",
    "renderWindow.SetSize(800,800)                          # set the size of the render window\n",
    "renderWindow.AddRenderer(renderer)                     # add the renderer to the render window\n",
    "renderWindowInteractor = vtkRenderWindowInteractor()   # create a vtkRenderWindowInteractor object\n",
    "renderWindowInteractor.SetRenderWindow(renderWindow)   # set the render window of the render window interactor to the vtkRenderWindow object\n",
    "renderer.AddActor(actor)                               # add the actor to the renderer"
   ]
  },
  {
   "attachments": {},
   "cell_type": "markdown",
   "metadata": {},
   "source": [
    "Finally render the object"
   ]
  },
  {
   "cell_type": "code",
   "execution_count": null,
   "metadata": {},
   "outputs": [],
   "source": [
    "renderWindow.Render()           # render the scene\n",
    "renderWindowInteractor.Start()  # start the interaction"
   ]
  }
 ],
 "metadata": {
  "kernelspec": {
   "display_name": "venv",
   "language": "python",
   "name": "python3"
  },
  "language_info": {
   "codemirror_mode": {
    "name": "ipython",
    "version": 3
   },
   "file_extension": ".py",
   "mimetype": "text/x-python",
   "name": "python",
   "nbconvert_exporter": "python",
   "pygments_lexer": "ipython3",
   "version": "3.10.6"
  },
  "orig_nbformat": 4,
  "vscode": {
   "interpreter": {
    "hash": "8fe66cce30862a4e93bde24945537a35e3a2095d318fb5e484968250b7edf294"
   }
  }
 },
 "nbformat": 4,
 "nbformat_minor": 2
}
